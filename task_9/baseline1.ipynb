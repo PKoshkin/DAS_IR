{
 "cells": [
  {
   "cell_type": "code",
   "execution_count": null,
   "metadata": {},
   "outputs": [],
   "source": [
    "import pandas as pd\n",
    "import numpy as np\n",
    "import matplotlib.pyplot as plt"
   ]
  },
  {
   "cell_type": "code",
   "execution_count": null,
   "metadata": {},
   "outputs": [],
   "source": [
    "train = pd.read_csv('train.tsv', sep='\\t')\n",
    "train.head()"
   ]
  },
  {
   "cell_type": "code",
   "execution_count": null,
   "metadata": {},
   "outputs": [],
   "source": [
    "Y = train['rel']\n",
    "X = train[train.columns.delete((0, 1, 2))]\n",
    "X.shape"
   ]
  },
  {
   "cell_type": "code",
   "execution_count": null,
   "metadata": {},
   "outputs": [],
   "source": [
    "from sklearn.model_selection import train_test_split\n",
    "\n",
    "X_train, X_test, Y_train, Y_test = train_test_split(X, Y, test_size=0.2, random_state=42, stratify=Y)"
   ]
  },
  {
   "cell_type": "code",
   "execution_count": null,
   "metadata": {},
   "outputs": [],
   "source": [
    "from keras.models import Model, Sequential\n",
    "from keras.layers import Input, Dense, Activation, Lambda\n",
    "from keras.optimizers import Adam\n",
    "\n",
    "x = Input(shape=(X.shape[1],))\n",
    "\n",
    "ranking_nn = Sequential()\n",
    "ranking_nn.add(Dense(23))\n",
    "ranking_nn.add(Activation('sigmoid'))\n",
    "ranking_nn.add(Dense(10))\n",
    "ranking_nn.add(Activation('sigmoid'))\n",
    "ranking_nn.add(Dense(5))\n",
    "ranking_nn.add(Activation('sigmoid'))\n",
    "ranking_nn.add(Dense(1))\n",
    "\n",
    "rank = ranking_nn(x)\n",
    "\n",
    "model = Model(inputs=x, outputs=rank)\n",
    "model.compile(loss='mse',\n",
    "              optimizer=Adam(lr=5e-6))"
   ]
  },
  {
   "cell_type": "code",
   "execution_count": null,
   "metadata": {
    "scrolled": true
   },
   "outputs": [],
   "source": [
    "model.fit(X_train, Y_train,\n",
    "          epochs=10,\n",
    "          batch_size=8,\n",
    "          shuffle=True,\n",
    "          validation_data=(X_test, Y_test),\n",
    "          verbose=1)\n",
    "model.fit(X_train, Y_train,\n",
    "          epochs=10,\n",
    "          batch_size=16,\n",
    "          shuffle=True,\n",
    "          validation_data=(X_test, Y_test),\n",
    "          verbose=1)\n",
    "model.fit(X_train, Y_train,\n",
    "          epochs=10,\n",
    "          batch_size=32,\n",
    "          shuffle=True,\n",
    "          validation_data=(X_test, Y_test),\n",
    "          verbose=1)"
   ]
  },
  {
   "cell_type": "code",
   "execution_count": null,
   "metadata": {},
   "outputs": [],
   "source": [
    "test = pd.read_csv('test.tsv', sep='\\t')\n",
    "test.head()"
   ]
  },
  {
   "cell_type": "code",
   "execution_count": null,
   "metadata": {},
   "outputs": [],
   "source": [
    "res = test[['docid', 'quid', 'feature_0']].copy()\n",
    "res['feature_0'] = model.predict(test[test.columns.delete((0, 1))])\n",
    "res.head()"
   ]
  },
  {
   "cell_type": "code",
   "execution_count": null,
   "metadata": {},
   "outputs": [],
   "source": [
    "csv = res.sort_values(['quid', 'feature_0'], ascending=False)[['docid', 'quid']]\n",
    "csv.to_csv('submission.csv', index=False)"
   ]
  }
 ],
 "metadata": {
  "kernelspec": {
   "display_name": "Python 3",
   "language": "python",
   "name": "python3"
  },
  "language_info": {
   "codemirror_mode": {
    "name": "ipython",
    "version": 3
   },
   "file_extension": ".py",
   "mimetype": "text/x-python",
   "name": "python",
   "nbconvert_exporter": "python",
   "pygments_lexer": "ipython3",
   "version": "3.7.3"
  }
 },
 "nbformat": 4,
 "nbformat_minor": 2
}
