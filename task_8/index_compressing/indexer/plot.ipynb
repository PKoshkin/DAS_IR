{
 "cells": [
  {
   "cell_type": "code",
   "execution_count": 1,
   "metadata": {},
   "outputs": [],
   "source": [
    "from matplotlib import pyplot as plt"
   ]
  },
  {
   "cell_type": "code",
   "execution_count": 2,
   "metadata": {},
   "outputs": [],
   "source": [
    "statistics_filename = \"statistic.txt\"\n",
    "sizes = {}\n",
    "compressions = []\n",
    "important_compressions = []\n",
    "important_words_compressions = []\n",
    "with open(statistics_filename) as handler:\n",
    "    for line in handler:\n",
    "        word, posting_size, encoded_size = line.strip().split()\n",
    "        posting_size, encoded_size = int(posting_size), int(encoded_size)\n",
    "        sizes[word] = posting_size, encoded_size\n",
    "        compresion = posting_size * 4 / encoded_size\n",
    "        compressions.append(compresion)\n",
    "        if posting_size > 100:\n",
    "            important_compressions.append(compresion)\n",
    "            important_words_compressions.append((compresion, word))"
   ]
  },
  {
   "cell_type": "code",
   "execution_count": 3,
   "metadata": {},
   "outputs": [
    {
     "name": "stdout",
     "output_type": "stream",
     "text": [
      "Распределение сжатий\n"
     ]
    },
    {
     "data": {
      "image/png": "[encoded data removed]",
      "text/plain": [
       "<Figure size 432x288 with 1 Axes>"
      ]
     },
     "metadata": {
      "needs_background": "light"
     },
     "output_type": "display_data"
    }
   ],
   "source": [
    "plt.hist(compressions, bins=50)\n",
    "print(\"Распределение сжатий\")\n",
    "plt.show()"
   ]
  },
  {
   "cell_type": "code",
   "execution_count": 4,
   "metadata": {},
   "outputs": [
    {
     "name": "stdout",
     "output_type": "stream",
     "text": [
      "Распределение сжатий для длинных постинг личтов\n"
     ]
    },
    {
     "data": {
      "image/png": "[encoded data removed]",
      "text/plain": [
       "<Figure size 432x288 with 1 Axes>"
      ]
     },
     "metadata": {
      "needs_background": "light"
     },
     "output_type": "display_data"
    }
   ],
   "source": [
    "plt.hist(important_compressions, bins=50)\n",
    "print(\"Распределение сжатий для длинных постинг личтов\")\n",
    "plt.show()"
   ]
  },
  {
   "cell_type": "markdown",
   "metadata": {},
   "source": [
    "Хм. Логирифм!"
   ]
  },
  {
   "cell_type": "code",
   "execution_count": 5,
   "metadata": {},
   "outputs": [
    {
     "name": "stdout",
     "output_type": "stream",
     "text": [
      "Распределение сжатий\n"
     ]
    },
    {
     "data": {
      "image/png": "[encoded data removed]",
      "text/plain": [
       "<Figure size 432x288 with 1 Axes>"
      ]
     },
     "metadata": {
      "needs_background": "light"
     },
     "output_type": "display_data"
    }
   ],
   "source": [
    "plt.hist(compressions, bins=50, log=True)\n",
    "print(\"Распределение сжатий\")\n",
    "plt.show()"
   ]
  },
  {
   "cell_type": "code",
   "execution_count": 6,
   "metadata": {},
   "outputs": [
    {
     "name": "stdout",
     "output_type": "stream",
     "text": [
      "Распределение сжатий для длинных постинг личтов\n"
     ]
    },
    {
     "data": {
      "image/png": "[encoded data removed]",
      "text/plain": [
       "<Figure size 432x288 with 1 Axes>"
      ]
     },
     "metadata": {
      "needs_background": "light"
     },
     "output_type": "display_data"
    }
   ],
   "source": [
    "plt.hist(important_compressions, bins=50, log=True)\n",
    "print(\"Распределение сжатий для длинных постинг личтов\")\n",
    "plt.show()"
   ]
  },
  {
   "cell_type": "markdown",
   "metadata": {},
   "source": [
    "Выглядит нормально (не в смысле Гаусса, конечно)"
   ]
  },
  {
   "cell_type": "code",
   "execution_count": 7,
   "metadata": {},
   "outputs": [
    {
     "name": "stdout",
     "output_type": "stream",
     "text": [
      "Хорошо сжимаемые слова:\n"
     ]
    },
    {
     "data": {
      "text/plain": [
       "[(4.0, 'encyclopedia'),\n",
       " (4.0, 'the'),\n",
       " (4.0, 'free'),\n",
       " (4.0, 'article'),\n",
       " (4.0, 'to'),\n",
       " (4.0, 'help'),\n",
       " (4.0, 'license'),\n",
       " (4.0, 'from'),\n",
       " (4.0, 'be'),\n",
       " (4.0, 'short')]"
      ]
     },
     "execution_count": 7,
     "metadata": {},
     "output_type": "execute_result"
    }
   ],
   "source": [
    "print(\"Хорошо сжимаемые слова:\")\n",
    "sorted(important_words_compressions, key=lambda pair: -pair[0])[:10]"
   ]
  },
  {
   "cell_type": "code",
   "execution_count": 8,
   "metadata": {},
   "outputs": [
    {
     "name": "stdout",
     "output_type": "stream",
     "text": [
      "Плохо сжимаемые слова\n"
     ]
    },
    {
     "data": {
      "text/plain": [
       "[(1.9619047619047618, 'crusaders'),\n",
       " (1.9626168224299065, 'hatfield'),\n",
       " (1.9626168224299065, 'veracruz'),\n",
       " (1.962962962962963, 'labors'),\n",
       " (1.962962962962963, 'herakles'),\n",
       " (1.962962962962963, 'holders'),\n",
       " (1.9636363636363636, 'bricks'),\n",
       " (1.967741935483871, 'gamesgame'),\n",
       " (1.968503937007874, 'schatz'),\n",
       " (1.9710144927536233, 'suppressor')]"
      ]
     },
     "execution_count": 8,
     "metadata": {},
     "output_type": "execute_result"
    }
   ],
   "source": [
    "print(\"Плохо сжимаемые слова\")\n",
    "sorted(important_words_compressions, key=lambda pair: pair[0])[:10]"
   ]
  },
  {
   "cell_type": "markdown",
   "metadata": {},
   "source": [
    "Как видно, постинг листы слов, которые часто встречаются сжимаются хорошо. Это происходит потому, что они встречаются в большм числе документов и оченеь редко случается так, что какой-то документ не содержит слово. Поэтому редко документ не присутствует в постинг листе и все дельты становятся мельнькими. А такое varint хорошо сжимает."
   ]
  }
 ],
 "metadata": {
  "kernelspec": {
   "display_name": "Python 3",
   "language": "python",
   "name": "python3"
  },
  "language_info": {
   "codemirror_mode": {
    "name": "ipython",
    "version": 3
   },
   "file_extension": ".py",
   "mimetype": "text/x-python",
   "name": "python",
   "nbconvert_exporter": "python",
   "pygments_lexer": "ipython3",
   "version": "3.7.0"
  }
 },
 "nbformat": 4,
 "nbformat_minor": 2
}
