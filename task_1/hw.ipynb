{
 "cells": [
  {
   "cell_type": "code",
   "execution_count": 1,
   "metadata": {},
   "outputs": [],
   "source": [
    "from urllib.parse import urlparse\n",
    "from urllib.parse import urldefrag\n",
    "from urllib.request import urlopen\n",
    "from file_storage import FileStorage\n",
    "from bs4 import BeautifulSoup\n",
    "from urllib.parse import urljoin\n",
    "from IPython.display import clear_output\n",
    "import os"
   ]
  },
  {
   "cell_type": "code",
   "execution_count": 2,
   "metadata": {},
   "outputs": [],
   "source": [
    "def download_from_the_internet(url):\n",
    "    try:\n",
    "        return urlopen(url).read().decode('utf-8')\n",
    "    except KeyboardInterrupt:\n",
    "        raise\n",
    "    except:\n",
    "        return None\n",
    "\n",
    "def extract_links_from_html(url, html):\n",
    "    parser = BeautifulSoup(html)\n",
    "    return [urljoin(url, link.get('href')) for link in parser.findAll('a')]"
   ]
  },
  {
   "cell_type": "code",
   "execution_count": 18,
   "metadata": {},
   "outputs": [],
   "source": [
    "class WikiDownloader:\n",
    "    def __init__(self, filters, storage):\n",
    "        self._filters = filters\n",
    "        self._storage = storage\n",
    "        self._active_urls = []\n",
    "        self._counters = []\n",
    "        self._active_links_lens = []\n",
    "        self._print_counter = 0\n",
    "\n",
    "    def start_with_seed(self, seed):\n",
    "        self._active_urls = [seed]\n",
    "        self.process()\n",
    "    \n",
    "    def start_with_urls(self, urls):\n",
    "        self._active_url = urls\n",
    "        self.process()\n",
    "\n",
    "    def process(self):\n",
    "        while len(self._active_urls) > 0:\n",
    "            self._counters.append(self._storage.count())\n",
    "            self._active_links_lens.append(len(self._active_urls))\n",
    "            clear_output()\n",
    "            print(self._counters)\n",
    "            print(self._active_links_lens)\n",
    "            self.step()\n",
    "\n",
    "    def process_url(self, url):\n",
    "        try:\n",
    "            self._print_counter += 1\n",
    "            if self._print_counter == 100:\n",
    "                self._print_counter = 0\n",
    "                clear_output()\n",
    "            print(\"process url\", url)\n",
    "            html = download_from_the_internet(url)\n",
    "            self._storage.write(url, html)\n",
    "            return get_urls_from_html(url, html)\n",
    "        except KeyboardInterrupt:\n",
    "            raise\n",
    "        except:\n",
    "            return []\n",
    "\n",
    "    def get_urls_from_html(self, url, html):\n",
    "        candidates_urls = extract_links_from_html(url, html)\n",
    "        urls = set()\n",
    "        for candidate_url in candidates_urls:                \n",
    "            if not storage.contains(candidate_url):\n",
    "                for url_filter in self._filters:\n",
    "                    if not url_filter(candidate_url):\n",
    "                        break\n",
    "                else:\n",
    "                    urls.add(candidate_url)\n",
    "        return urls\n",
    "\n",
    "    def get_active_urls(self, max_htmls):\n",
    "        self._active_urls = set()\n",
    "        count = storage.count()\n",
    "        for i, url in enumerate(storage.dict.keys()):\n",
    "            if i % 100 == 0:\n",
    "                clear_output()\n",
    "                print(\"process {} / {}\".format(i, count))\n",
    "            html = storage.read(url)\n",
    "            urls = self.get_urls_from_html(url, html)\n",
    "            self._active_urls.update(urls)\n",
    "            if i > max_htmls:\n",
    "                break\n",
    "\n",
    "    def read_urls(self, filename):\n",
    "        self._active_urls = set()\n",
    "        with open(filename) as handler:\n",
    "            for line in handler:\n",
    "                self._active_urls.add(line.strip())\n",
    "\n",
    "    def step(self):\n",
    "        new_active_urls = set()\n",
    "        for url in self._active_urls:\n",
    "            new_active_urls.update(self.process_url(url))\n",
    "        self._active_urls = new_active_urls"
   ]
  },
  {
   "cell_type": "code",
   "execution_count": 4,
   "metadata": {},
   "outputs": [],
   "source": [
    "SEED = \"https://simple.wikipedia.org/wiki/Main_Page\"\n",
    "STORAGE_NAME = \"hw_first_try\"\n",
    "#for path in [\"{}.dict\".format(STORAGE_NAME), \"{}.data\".format(STORAGE_NAME)]:\n",
    "#    if os.path.exists(path):\n",
    "#        os.remove(path)"
   ]
  },
  {
   "cell_type": "code",
   "execution_count": 5,
   "metadata": {},
   "outputs": [],
   "source": [
    "filters = [\n",
    "    lambda url: url.startswith(\"https://simple.wikipedia.org/wiki/\"),\n",
    "    lambda url: not urlparse(url).path.startswith(\"/wiki/Wikipedia:\"),\n",
    "    lambda url: not urlparse(url).path.startswith(\"/wiki/Help:\"),\n",
    "    lambda url: not urlparse(url).path.startswith(\"/wiki/Special:\"),\n",
    "    lambda url: not urlparse(url).path.startswith(\"/wiki/File:\"),\n",
    "    lambda url: not urlparse(url).path.startswith(\"/wiki/Talk:\"),\n",
    "    lambda url: not urlparse(url).path.startswith(\"/wiki/T:\"),\n",
    "    lambda url: not urlparse(url).path.startswith(\"/wiki/User:\"),\n",
    "    lambda url: not urlparse(url).path.startswith(\"/wiki/Template:\"),\n",
    "    lambda url: not urlparse(url).path.startswith(\"/wiki/Template_talk:\"),\n",
    "    lambda url: not urlparse(url).path.startswith(\"/wiki/User_talk:\"),\n",
    "    lambda url: urlparse(url).fragment == \"\",\n",
    "]"
   ]
  },
  {
   "cell_type": "code",
   "execution_count": 19,
   "metadata": {},
   "outputs": [],
   "source": [
    "storage = FileStorage(STORAGE_NAME)\n",
    "downloader = WikiDownloader(filters, storage)"
   ]
  },
  {
   "cell_type": "raw",
   "metadata": {},
   "source": [
    "[1, 118, 6557, 90140]\n",
    "[371, 31589, 982801, 6165231]"
   ]
  },
  {
   "cell_type": "code",
   "execution_count": 7,
   "metadata": {
    "scrolled": true
   },
   "outputs": [],
   "source": [
    "#downloader.start_with_seed(SEED)"
   ]
  },
  {
   "cell_type": "code",
   "execution_count": 48,
   "metadata": {},
   "outputs": [
    {
     "name": "stdout",
     "output_type": "stream",
     "text": [
      "process 221600 / 221609\n",
      "312\n"
     ]
    }
   ],
   "source": [
    "downloader.get_active_urls(1e10)\n",
    "print(len(downloader._active_urls))"
   ]
  },
  {
   "cell_type": "code",
   "execution_count": 49,
   "metadata": {},
   "outputs": [
    {
     "name": "stdout",
     "output_type": "stream",
     "text": [
      "312\n"
     ]
    }
   ],
   "source": [
    "print(len(downloader._active_urls))"
   ]
  },
  {
   "cell_type": "code",
   "execution_count": 25,
   "metadata": {},
   "outputs": [],
   "source": [
    "with open(\"active_urls_61489\", \"w\") as handler:\n",
    "    for url in downloader._active_urls:\n",
    "        handler.write(url + \"\\n\")"
   ]
  },
  {
   "cell_type": "code",
   "execution_count": 26,
   "metadata": {},
   "outputs": [],
   "source": [
    "downloader.read_urls(\"active_urls_61489\")"
   ]
  },
  {
   "cell_type": "code",
   "execution_count": 50,
   "metadata": {
    "scrolled": true
   },
   "outputs": [
    {
     "name": "stdout",
     "output_type": "stream",
     "text": [
      "process url https://simple.wikipedia.org/wiki/European_route_E30\n",
      "process url https://simple.wikipedia.org/wiki/U.S._50_in_California\n",
      "process url https://simple.wikipedia.org/wiki/Rudolf_Schumann\n",
      "process url https://simple.wikipedia.org/wiki/San_Diego_Gulls\n",
      "process url https://simple.wikipedia.org/wiki/Aveiro,_Portugal\n",
      "process url https://simple.wikipedia.org/wiki/Interstate_670_(Kansas%E2%80%93Missouri)\n",
      "process url https://simple.wikipedia.org/wiki/Louisiana_Highway_1\n",
      "process url https://simple.wikipedia.org/wiki/Raigad\n",
      "process url https://simple.wikipedia.org/wiki/Parable_of_the_Pearl\n",
      "process url https://simple.wikipedia.org/wiki/Parable_of_the_Unjust_Judge\n",
      "process url https://simple.wikipedia.org/wiki/Illinois_Route_21\n",
      "process url https://simple.wikipedia.org/wiki/U.S._Route_431_in_Alabama\n",
      "process url https://simple.wikipedia.org/wiki/U.S._Route_17_in_Florida\n",
      "process url https://simple.wikipedia.org/wiki/Svalbard_and_Jan_Mayen\n",
      "process url https://simple.wikipedia.org/wiki/Interstate_265\n",
      "process url https://simple.wikipedia.org/wiki/Croatian_Republic_of_Herzeg-Bosnia\n",
      "process url https://simple.wikipedia.org/wiki/Louisiana_Route_150\n",
      "process url https://simple.wikipedia.org/wiki/Bashkortostan\n",
      "process url https://simple.wikipedia.org/wiki/S_Per\n",
      "process url https://simple.wikipedia.org/wiki/Interstate_235_(Kansas)\n",
      "process url https://simple.wikipedia.org/wiki/Indigenous_peoples_of_Europe\n",
      "process url https://simple.wikipedia.org/wiki/Interstate_65_in_Kentucky\n",
      "process url https://simple.wikipedia.org/wiki/Second_flag_of_the_Nguyen_Dynasty\n",
      "process url https://simple.wikipedia.org/wiki/Illinois_Route_19\n",
      "process url https://simple.wikipedia.org/wiki/Medal_Defender_of_a_Free_Russia\n",
      "process url https://simple.wikipedia.org/wiki/Flag_of_Vietnam_People%27s_Army\n",
      "process url https://simple.wikipedia.org/wiki/Arab_Mashreq_International_Road_Network\n",
      "process url https://simple.wikipedia.org/wiki/Interstate_10_in_Texas\n",
      "process url https://simple.wikipedia.org/wiki/Medal_%22In_Commemoration_of_the_850th_Anniversary_of_Moscow%22\n",
      "process url https://simple.wikipedia.org/wiki/Richard_Nikitin\n",
      "process url https://simple.wikipedia.org/wiki/Interstate_35_in_Texas\n",
      "process url https://simple.wikipedia.org/wiki/North_London_Line\n",
      "process url https://simple.wikipedia.org/wiki/Springfield_Thunderbirds\n",
      "process url https://simple.wikipedia.org/wiki/Parable_of_the_Tares\n",
      "process url https://simple.wikipedia.org/wiki/Parable_of_the_Wise_and_the_Foolish_Builders\n",
      "process url https://simple.wikipedia.org/wiki/Highway_28_(Wisconsin)\n",
      "process url https://simple.wikipedia.org/wiki/Electorate_of_Saxony\n",
      "process url https://simple.wikipedia.org/wiki/IPA_pulmonic_consonants_chart_with_audio\n",
      "process url https://simple.wikipedia.org/wiki/Chari-Baguirmi_Region\n",
      "process url https://simple.wikipedia.org/wiki/Louisiana_Route_146\n",
      "process url https://simple.wikipedia.org/wiki/Kingdom_of_Serbia\n",
      "process url https://simple.wikipedia.org/wiki/Illinois_Route_62\n",
      "process url https://simple.wikipedia.org/wiki/Parable_of_the_Sower\n",
      "process url https://simple.wikipedia.org/wiki/Bus_transport_in_the_United_Kingdom\n",
      "process url https://simple.wikipedia.org/wiki/Southern_Sudan\n",
      "process url https://simple.wikipedia.org/wiki/Lehigh_Valley_Phantoms\n",
      "process url https://simple.wikipedia.org/wiki/Interstate_55_in_Illinois\n",
      "process url https://simple.wikipedia.org/wiki/Illinois_Route_83\n",
      "process url https://simple.wikipedia.org/wiki/Kabardino-Balkaria\n",
      "process url https://simple.wikipedia.org/wiki/Louisiana_Route_818\n",
      "process url https://simple.wikipedia.org/wiki/U.S._Route_54_in_Texas\n",
      "process url https://simple.wikipedia.org/wiki/Indigenous_peoples_of_Asia\n",
      "process url https://simple.wikipedia.org/wiki/Alina_Yemelyanova\n",
      "process url https://simple.wikipedia.org/wiki/Parable_of_the_Hidden_Treasure\n",
      "process url https://simple.wikipedia.org/wiki/7_(New_York_City_Subway_service)\n",
      "process url https://simple.wikipedia.org/wiki/U.S._Route_12_in_Illinois\n",
      "process url https://simple.wikipedia.org/wiki/East_London_Line\n",
      "process url https://simple.wikipedia.org/wiki/Sharjah_(emirate)\n",
      "process url https://simple.wikipedia.org/wiki/Vietnamese_New_Year_Cup\n",
      "process url https://simple.wikipedia.org/wiki/U.S._Route_14_in_Illinois\n",
      "process url https://simple.wikipedia.org/wiki/Order_of_Honour_(Russian_Federation)\n",
      "process url https://simple.wikipedia.org/wiki/CAHSR\n",
      "process url https://simple.wikipedia.org/wiki/Florida_State_Road_429\n",
      "process url https://simple.wikipedia.org/wiki/Flag_of_Communist_Party_of_Vietnam\n",
      "process url https://simple.wikipedia.org/wiki/Busan_Metro_Line_3\n",
      "process url https://simple.wikipedia.org/wiki/Republic_of_Artsakh\n",
      "process url https://simple.wikipedia.org/wiki/General_classification_in_the_Vuelta_a_Espa%C3%B1a\n",
      "process url https://simple.wikipedia.org/wiki/Pacific_Community\n",
      "process url https://simple.wikipedia.org/wiki/Blackpool_South_railway_station\n",
      "process url https://simple.wikipedia.org/wiki/Line_2_Bloor%E2%80%93Danforth\n",
      "process url https://simple.wikipedia.org/wiki/Order_of_Friendship\n",
      "process url https://simple.wikipedia.org/wiki/Indigenous_peoples_of_Oceania\n",
      "process url https://simple.wikipedia.org/wiki/U.S._Route_167\n",
      "process url https://simple.wikipedia.org/wiki/Congressional_Space_Medal_of_Honor\n",
      "process url https://simple.wikipedia.org/wiki/Kingdom_of_Dahomey\n",
      "process url https://simple.wikipedia.org/wiki/Parable_of_the_Two_Debtors\n",
      "process url https://simple.wikipedia.org/wiki/Socialist_Republic_of_Romania\n",
      "process url https://simple.wikipedia.org/wiki/Flag_of_National_Liberation_Front_for_South_Vietnam\n",
      "process url https://simple.wikipedia.org/wiki/Busan_Metro_Line_4\n",
      "process url https://simple.wikipedia.org/wiki/Highway_67_(Wisconsin)\n",
      "process url https://simple.wikipedia.org/wiki/Interstate_65_in_Alabama\n",
      "process url https://simple.wikipedia.org/wiki/U.S._Route_231_in_Alabama\n",
      "process url https://simple.wikipedia.org/wiki/Chuvashia\n",
      "process url https://simple.wikipedia.org/wiki/Coat_of_arms_of_Georgia_(country)\n",
      "process url https://simple.wikipedia.org/wiki/Great_Seal_of_the_State\n",
      "process url https://simple.wikipedia.org/wiki/Louisiana_Highway_6\n",
      "process url https://simple.wikipedia.org/wiki/Clipperton_Island\n",
      "process url https://simple.wikipedia.org/wiki/Kingdom_of_Bavaria\n"
     ]
    }
   ],
   "source": [
    "downloader.process()"
   ]
  },
  {
   "cell_type": "code",
   "execution_count": 51,
   "metadata": {},
   "outputs": [
    {
     "data": {
      "text/plain": [
       "221610"
      ]
     },
     "execution_count": 51,
     "metadata": {},
     "output_type": "execute_result"
    }
   ],
   "source": [
    "storage.count()"
   ]
  },
  {
   "cell_type": "code",
   "execution_count": 46,
   "metadata": {},
   "outputs": [
    {
     "data": {
      "text/plain": [
       "[75624, 61489, 49777, 4035, 637, 314]"
      ]
     },
     "execution_count": 46,
     "metadata": {},
     "output_type": "execute_result"
    }
   ],
   "source": [
    "downloader._active_links_lens"
   ]
  },
  {
   "cell_type": "code",
   "execution_count": 52,
   "metadata": {},
   "outputs": [
    {
     "data": {
      "text/plain": [
       "[138260, 154561, 168070, 217559, 221282, 221607, 221609]"
      ]
     },
     "execution_count": 52,
     "metadata": {},
     "output_type": "execute_result"
    }
   ],
   "source": [
    "downloader._counters"
   ]
  },
  {
   "cell_type": "code",
   "execution_count": 54,
   "metadata": {},
   "outputs": [
    {
     "data": {
      "text/plain": [
       "221610"
      ]
     },
     "execution_count": 54,
     "metadata": {},
     "output_type": "execute_result"
    }
   ],
   "source": [
    "downloader._storage.count()"
   ]
  },
  {
   "cell_type": "code",
   "execution_count": 59,
   "metadata": {},
   "outputs": [],
   "source": [
    "i = 0\n",
    "for url in downloader._storage.dict.keys():\n",
    "    #if urlparse(url).path.startswith(\"/wiki/Category:\") or (\"#\" in urlparse(url).path):\n",
    "    if (\"#\" in urlparse(url).path):\n",
    "        print(url)\n",
    "        if i > 100:\n",
    "            break\n",
    "        i += 1"
   ]
  },
  {
   "cell_type": "code",
   "execution_count": 63,
   "metadata": {},
   "outputs": [],
   "source": [
    "a = \"https://simple.wikipedia.org/wiki/Pig\"\n",
    "b = \"https://simple.wikipedia.org/wiki/Pigs\""
   ]
  },
  {
   "cell_type": "code",
   "execution_count": 64,
   "metadata": {},
   "outputs": [
    {
     "data": {
      "text/plain": [
       "(True, True)"
      ]
     },
     "execution_count": 64,
     "metadata": {},
     "output_type": "execute_result"
    }
   ],
   "source": [
    "a in downloader._storage.dict.keys(), b in downloader._storage.dict.keys()"
   ]
  },
  {
   "cell_type": "code",
   "execution_count": null,
   "metadata": {},
   "outputs": [],
   "source": [
    "urlparse(url).path.startswith(\"/wiki/Category:\")"
   ]
  },
  {
   "cell_type": "code",
   "execution_count": 66,
   "metadata": {},
   "outputs": [
    {
     "data": {
      "text/plain": [
       "False"
      ]
     },
     "execution_count": 66,
     "metadata": {},
     "output_type": "execute_result"
    }
   ],
   "source": [
    "\"wgRedirectedFrom\" in downloader._storage.read(a)"
   ]
  },
  {
   "cell_type": "code",
   "execution_count": 67,
   "metadata": {},
   "outputs": [
    {
     "data": {
      "text/plain": [
       "True"
      ]
     },
     "execution_count": 67,
     "metadata": {},
     "output_type": "execute_result"
    }
   ],
   "source": [
    "\"wgRedirectedFrom\" in downloader._storage.read(b)"
   ]
  },
  {
   "cell_type": "code",
   "execution_count": 68,
   "metadata": {},
   "outputs": [],
   "source": [
    "final_storage = FileStorage(\"final_storage\")"
   ]
  },
  {
   "cell_type": "code",
   "execution_count": 69,
   "metadata": {},
   "outputs": [
    {
     "name": "stdout",
     "output_type": "stream",
     "text": [
      "221000\n"
     ]
    }
   ],
   "source": [
    "for i, url in enumerate(downloader._storage.dict.keys()):\n",
    "    if i % 1000 == 0:\n",
    "        clear_output()\n",
    "        print(i)\n",
    "    html = downloader._storage.read(url)\n",
    "    if (\"wgRedirectedFrom\" not in html) and (not urlparse(url).path.startswith(\"/wiki/Category:\")):\n",
    "        final_storage.write(url, html)"
   ]
  },
  {
   "cell_type": "code",
   "execution_count": 70,
   "metadata": {},
   "outputs": [
    {
     "data": {
      "text/plain": [
       "142806"
      ]
     },
     "execution_count": 70,
     "metadata": {},
     "output_type": "execute_result"
    }
   ],
   "source": [
    "final_storage.count()"
   ]
  },
  {
   "cell_type": "code",
   "execution_count": null,
   "metadata": {},
   "outputs": [],
   "source": []
  }
 ],
 "metadata": {
  "kernelspec": {
   "display_name": "Python 3",
   "language": "python",
   "name": "python3"
  },
  "language_info": {
   "codemirror_mode": {
    "name": "ipython",
    "version": 3
   },
   "file_extension": ".py",
   "mimetype": "text/x-python",
   "name": "python",
   "nbconvert_exporter": "python",
   "pygments_lexer": "ipython3",
   "version": "3.7.0"
  }
 },
 "nbformat": 4,
 "nbformat_minor": 2
}
