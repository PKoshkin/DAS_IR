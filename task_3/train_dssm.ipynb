{
 "cells": [
  {
   "cell_type": "code",
   "execution_count": 1,
   "metadata": {},
   "outputs": [
    {
     "name": "stderr",
     "output_type": "stream",
     "text": [
      "Using TensorFlow backend.\n"
     ]
    }
   ],
   "source": [
    "from collections import Counter\n",
    "from sklearn.model_selection import KFold\n",
    "import numpy as np\n",
    "from scipy.sparse import csr_matrix\n",
    "import re\n",
    "import os\n",
    "import shutil\n",
    "\n",
    "from IPython.display import clear_output\n",
    "from collections import defaultdict\n",
    "\n",
    "os.environ[\"CUDA_DEVICE_ORDER\"] = \"PCI_BUS_ID\"\n",
    "os.environ[\"CUDA_VISIBLE_DEVICES\"] = \"2\"\n",
    "\n",
    "from functions import *\n",
    "\n",
    "from keras.models import Sequential, Model\n",
    "from keras.losses import mean_absolute_error\n",
    "from keras.layers import Embedding, LSTM, Bidirectional, Dense, Input, Masking, Lambda, concatenate\n",
    "import keras.backend as K\n",
    "from keras.optimizers import Adam\n",
    "from keras.callbacks import LambdaCallback, LearningRateScheduler, Callback"
   ]
  },
  {
   "cell_type": "code",
   "execution_count": 2,
   "metadata": {},
   "outputs": [],
   "source": [
    "QUERY_DICT_SIZE = 19829#247074\n",
    "DOCUMENT_DICT_SIZE = 262285#583954\n",
    "ACTIVATION = 'relu'\n",
    "MAX_DOCUMENT_LEN = 35039#35840\n",
    "MAX_QUERY_LEN = 1425#1475"
   ]
  },
  {
   "cell_type": "code",
   "execution_count": 3,
   "metadata": {},
   "outputs": [],
   "source": [
    "dense_model = make_lstm_dense_model(\n",
    "    DOCUMENT_DICT_SIZE,\n",
    "    10,\n",
    "    QUERY_DICT_SIZE,\n",
    "    2,\n",
    "    2,\n",
    "    MAX_QUERY_LEN,\n",
    "    'tanh',\n",
    "    HIDDEN_SIZE\n",
    ")"
   ]
  },
  {
   "cell_type": "code",
   "execution_count": 4,
   "metadata": {},
   "outputs": [],
   "source": [
    "input_from_lines = lambda lines: make_lstm_dense_input_from_lines(lines, MAX_QUERY_LEN, DOCUMENT_DICT_SIZE)"
   ]
  },
  {
   "cell_type": "code",
   "execution_count": null,
   "metadata": {
    "scrolled": false
   },
   "outputs": [
    {
     "name": "stdout",
     "output_type": "stream",
     "text": [
      "Epoch 1/1\n",
      "   7/7656 [..............................] - ETA: 38:25:15 - loss: 0.0045 - mean_positive_score: 0.0103 - mean_negative_score: 0.0125 - mean_positive_var: 0.0092 - mean_negative_var: 0.0097 - acc: 0.0056         "
     ]
    }
   ],
   "source": [
    "history = train_epoch(dense_model, 1, 20, input_from_lines)"
   ]
  },
  {
   "cell_type": "code",
   "execution_count": null,
   "metadata": {},
   "outputs": [],
   "source": []
  },
  {
   "cell_type": "code",
   "execution_count": null,
   "metadata": {},
   "outputs": [],
   "source": []
  },
  {
   "cell_type": "code",
   "execution_count": null,
   "metadata": {},
   "outputs": [],
   "source": []
  },
  {
   "cell_type": "code",
   "execution_count": null,
   "metadata": {},
   "outputs": [],
   "source": [
    "with open(\"positive_train_data.tsv\") as positive:\n",
    "    positive_lines = [next(positive) for i in range(10)]"
   ]
  },
  {
   "cell_type": "code",
   "execution_count": null,
   "metadata": {},
   "outputs": [],
   "source": [
    "with open(\"negative_train_data.tsv\") as negative:\n",
    "    negative_lines = [next(negative) for i in range(10)]"
   ]
  },
  {
   "cell_type": "code",
   "execution_count": null,
   "metadata": {},
   "outputs": [],
   "source": [
    "positive_inputs = make_lstm_dense_input_from_lines(positive_lines)"
   ]
  },
  {
   "cell_type": "code",
   "execution_count": null,
   "metadata": {},
   "outputs": [],
   "source": [
    "dense_model.predict(positive_inputs)"
   ]
  },
  {
   "cell_type": "code",
   "execution_count": null,
   "metadata": {},
   "outputs": [],
   "source": [
    "negative_inputs = make_lstm_dense_input_from_lines(negative_lines)"
   ]
  },
  {
   "cell_type": "code",
   "execution_count": null,
   "metadata": {},
   "outputs": [],
   "source": [
    "dense_model.predict(negative_inputs)"
   ]
  },
  {
   "cell_type": "code",
   "execution_count": null,
   "metadata": {},
   "outputs": [],
   "source": [
    "test_data_generator = make_generator(DataGenerator(\n",
    "    \"positive_train_data_10K.tsv\",\n",
    "    \"negative_train_data_10K.tsv\",\n",
    "    dense_model,\n",
    "    BATCH_SIZE,\n",
    "    BATCH_SIZE * 1\n",
    "))\n",
    "z = next(test_data_generator)"
   ]
  },
  {
   "cell_type": "code",
   "execution_count": null,
   "metadata": {},
   "outputs": [],
   "source": [
    "x_1 = dense_model.evaluate_generator(test_data_generator, 1)"
   ]
  },
  {
   "cell_type": "code",
   "execution_count": null,
   "metadata": {},
   "outputs": [],
   "source": [
    "x_2 = dense_model.evaluate_generator(test_data_generator, 2)"
   ]
  },
  {
   "cell_type": "code",
   "execution_count": null,
   "metadata": {},
   "outputs": [],
   "source": [
    "x_5 = dense_model.evaluate_generator(test_data_generator, 5)"
   ]
  },
  {
   "cell_type": "code",
   "execution_count": null,
   "metadata": {},
   "outputs": [],
   "source": [
    "x_10 = dense_model.evaluate_generator(test_data_generator, 10)"
   ]
  },
  {
   "cell_type": "code",
   "execution_count": null,
   "metadata": {},
   "outputs": [],
   "source": [
    "x_100 = dense_model.evaluate_generator(test_data_generator, 100)"
   ]
  },
  {
   "cell_type": "code",
   "execution_count": null,
   "metadata": {},
   "outputs": [],
   "source": [
    "x_1"
   ]
  },
  {
   "cell_type": "code",
   "execution_count": null,
   "metadata": {},
   "outputs": [],
   "source": [
    "x_100"
   ]
  },
  {
   "cell_type": "code",
   "execution_count": null,
   "metadata": {},
   "outputs": [],
   "source": [
    "make_batch(positive_lines[0], negative_lines)"
   ]
  },
  {
   "cell_type": "code",
   "execution_count": null,
   "metadata": {},
   "outputs": [],
   "source": [
    "(1 - np.array([ 1., -1., -1., -1., -1., -1., -1., -1., -1., -1., -1.])) / 2"
   ]
  },
  {
   "cell_type": "code",
   "execution_count": null,
   "metadata": {},
   "outputs": [],
   "source": []
  }
 ],
 "metadata": {
  "kernelspec": {
   "display_name": "Python 3",
   "language": "python",
   "name": "python3"
  },
  "language_info": {
   "codemirror_mode": {
    "name": "ipython",
    "version": 3
   },
   "file_extension": ".py",
   "mimetype": "text/x-python",
   "name": "python",
   "nbconvert_exporter": "python",
   "pygments_lexer": "ipython3",
   "version": "3.5.2"
  }
 },
 "nbformat": 4,
 "nbformat_minor": 2
}
