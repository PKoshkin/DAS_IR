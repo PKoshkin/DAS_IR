{
 "cells": [
  {
   "cell_type": "code",
   "execution_count": 1,
   "metadata": {},
   "outputs": [
    {
     "name": "stderr",
     "output_type": "stream",
     "text": [
      "Using TensorFlow backend.\n"
     ]
    }
   ],
   "source": [
    "from collections import Counter\n",
    "from sklearn.model_selection import KFold\n",
    "import numpy as np\n",
    "from scipy.sparse import csr_matrix\n",
    "import re\n",
    "import os\n",
    "import shutil\n",
    "\n",
    "from IPython.display import clear_output\n",
    "from collections import defaultdict\n",
    "\n",
    "os.environ[\"CUDA_DEVICE_ORDER\"] = \"PCI_BUS_ID\"\n",
    "os.environ[\"CUDA_VISIBLE_DEVICES\"] = \"2\"\n",
    "\n",
    "from functions import *\n",
    "\n",
    "from keras.models import Sequential, Model\n",
    "from keras.losses import mean_absolute_error\n",
    "from keras.layers import Embedding, LSTM, Bidirectional, Dense, Input, Masking, Lambda, concatenate\n",
    "import keras.backend as K\n",
    "from keras.optimizers import Adam\n",
    "from keras.callbacks import LambdaCallback, LearningRateScheduler, Callback"
   ]
  },
  {
   "cell_type": "code",
   "execution_count": 2,
   "metadata": {},
   "outputs": [],
   "source": [
    "dense_model = make_dense_model(\n",
    "    DOCUMENT_DICT_SIZE,\n",
    "    5,\n",
    "    QUERY_DICT_SIZE,\n",
    "    5,\n",
    "    'tanh',\n",
    "    HIDDEN_SIZE\n",
    ")"
   ]
  },
  {
   "cell_type": "code",
   "execution_count": null,
   "metadata": {},
   "outputs": [
    {
     "name": "stdout",
     "output_type": "stream",
     "text": [
      "Epoch 1/1\n",
      "    1/15312 [..............................] - ETA: 12:31:06 - loss: 0.0042 - mean_positive_score: 0.0031 - mean_negative_score: 0.0072 - mean_positive_var: 0.0021 - mean_negative_var: 0.0029 - acc: 0.0000e+00"
     ]
    },
    {
     "name": "stderr",
     "output_type": "stream",
     "text": [
      "/home/icecream/.local/lib/python3.5/site-packages/keras/callbacks.py:122: UserWarning: Method on_batch_end() is slow compared to the batch update (47.002555). Check your callbacks.\n",
      "  % delta_t_median)\n"
     ]
    },
    {
     "name": "stdout",
     "output_type": "stream",
     "text": [
      "    3/15312 [..............................] - ETA: 71:23:11 - loss: 7.1033e-04 - mean_positive_score: 0.0520 - mean_negative_score: 0.0527 - mean_positive_var: 0.0069 - mean_negative_var: 0.0069 - acc: 0.0000e+00"
     ]
    },
    {
     "name": "stderr",
     "output_type": "stream",
     "text": [
      "/home/icecream/.local/lib/python3.5/site-packages/keras/callbacks.py:122: UserWarning: Method on_batch_end() is slow compared to the batch update (23.501720). Check your callbacks.\n",
      "  % delta_t_median)\n"
     ]
    },
    {
     "name": "stdout",
     "output_type": "stream",
     "text": [
      " 6126/15312 [===========>..................] - ETA: 33:14 - loss: -0.0038 - mean_positive_score: 0.1049 - mean_negative_score: 0.1011 - mean_positive_var: 0.2561 - mean_negative_var: 0.2568 - acc: 0.4413"
     ]
    }
   ],
   "source": [
    "history = train_epoch(dense_model, 1, 10)"
   ]
  },
  {
   "cell_type": "code",
   "execution_count": null,
   "metadata": {},
   "outputs": [],
   "source": [
    " 4313/15312 [=======>......................] - ETA: 41:00 - loss: -0.0044 - mean_positive_score: 0.0507 - mean_negative_score: 0.0463 - mean_positive_var: 0.2477 - mean_negative_var: 0.2484 - acc: 0.4231\n"
   ]
  },
  {
   "cell_type": "code",
   "execution_count": null,
   "metadata": {},
   "outputs": [],
   "source": []
  }
 ],
 "metadata": {
  "kernelspec": {
   "display_name": "Python 3",
   "language": "python",
   "name": "python3"
  },
  "language_info": {
   "codemirror_mode": {
    "name": "ipython",
    "version": 3
   },
   "file_extension": ".py",
   "mimetype": "text/x-python",
   "name": "python",
   "nbconvert_exporter": "python",
   "pygments_lexer": "ipython3",
   "version": "3.5.2"
  }
 },
 "nbformat": 4,
 "nbformat_minor": 2
}
