{
 "cells": [
  {
   "cell_type": "code",
   "execution_count": 1,
   "metadata": {},
   "outputs": [
    {
     "name": "stderr",
     "output_type": "stream",
     "text": [
      "Using TensorFlow backend.\n"
     ]
    }
   ],
   "source": [
    "from collections import Counter\n",
    "from sklearn.model_selection import KFold\n",
    "import numpy as np\n",
    "import re\n",
    "import os\n",
    "import shutil\n",
    "\n",
    "from urllib.parse import urlparse\n",
    "from urllib.parse import urldefrag\n",
    "from urllib.request import urlopen\n",
    "from file_storage import FileStorage\n",
    "from urllib.parse import urljoin\n",
    "from IPython.display import clear_output\n",
    "from collections import defaultdict\n",
    "\n",
    "from inscriptis import get_text\n",
    "\n",
    "os.environ[\"CUDA_DEVICE_ORDER\"] = \"PCI_BUS_ID\"\n",
    "os.environ[\"CUDA_VISIBLE_DEVICES\"] = \"3\"\n",
    "\n",
    "from keras.models import Sequential, Model\n",
    "from keras.layers import Embedding, LSTM, Bidirectional, Dense, Input, Masking, Lambda\n",
    "import keras.backend as K\n",
    "from keras.optimizers import Adam\n",
    "from keras.callbacks import LambdaCallback, LearningRateScheduler, Callback"
   ]
  },
  {
   "cell_type": "code",
   "execution_count": 2,
   "metadata": {},
   "outputs": [],
   "source": [
    "CLEAR_STORAGE = FileStorage(\"clear_storage\")\n",
    "PREFIX = \"https://simple.wikipedia.org\"\n",
    "MIN_FREQ = 10"
   ]
  },
  {
   "cell_type": "code",
   "execution_count": 3,
   "metadata": {},
   "outputs": [],
   "source": [
    "def read_train(tarin_filename):\n",
    "    queries, urls = [], []\n",
    "    with open(tarin_filename) as handler:\n",
    "        for line in handler:\n",
    "            query, url = line.strip().split(\"\\t\", 2)\n",
    "            queries.append(query)\n",
    "            urls.append(url)\n",
    "    return queries, urls\n",
    "\n",
    "def get_words_from_url(url):\n",
    "    key = PREFIX + url\n",
    "    if CLEAR_STORAGE.contains(key):\n",
    "        return re.sub(\"[^\\w\\s]\", \" \", get_text(CLEAR_STORAGE.read(key)).lower()).split()\n",
    "    else:\n",
    "        return []\n",
    "\n",
    "def get_words_counter_from_urls(urls):\n",
    "    words = Counter()\n",
    "    for i, url in enumerate(urls):\n",
    "        if i % 500 == 0:\n",
    "            clear_output()\n",
    "            print(\"{} / {}\".format(i, len(urls)))\n",
    "        for word in get_words_from_url(url):\n",
    "            words[word] += 1\n",
    "    return words\n",
    "\n",
    "def get_words_from_query(query):\n",
    "    return re.sub(\"[^\\w\\s]\", \" \", query.lower()).split()\n",
    "    \n",
    "def get_words_counter_from_queries(queries):\n",
    "    words = Counter()\n",
    "    for i, query in enumerate(queries):\n",
    "        if i % 500 == 0:\n",
    "            clear_output()\n",
    "            print(\"{} / {}\".format(i, len(urls)))\n",
    "        for word in get_words_from_query(query):\n",
    "            words[word] += 1\n",
    "    return words\n",
    "\n",
    "def make_words_to_labels_from_words_counter(words_counter, min_freq):\n",
    "    filtered_words = {\n",
    "        word: words_counter[word]\n",
    "        for word in words_counter\n",
    "        if words_counter[word] > min_freq\n",
    "    }\n",
    "    return {\n",
    "        word: label\n",
    "        for label, word in enumerate(filtered_words)\n",
    "    }\n",
    "\n",
    "def load_words_to_labels(filename):\n",
    "    with open(filename) as handler:\n",
    "        words_to_labels = {}\n",
    "        for line in handler:\n",
    "            word, label = line.strip().split()\n",
    "            words_to_labels[word] = int(label)\n",
    "        return words_to_labels\n",
    "\n",
    "def save_words(words_to_labels, filename):\n",
    "    with open(filename, \"w\") as handler:\n",
    "        for word in words_to_labels:\n",
    "            print(\"{}\\t{}\".format(word, words_to_labels[word]), file=handler)\n",
    "\n",
    "def word_to_label(word, words_to_labels):\n",
    "    if word in words_to_labels:\n",
    "        return str(words_to_labels[word])\n",
    "    else:\n",
    "        return \"\"\n",
    "\n",
    "def make_procesed_train_file(\n",
    "        queries,\n",
    "        urls,\n",
    "        filename,\n",
    "        url_words_to_labels,\n",
    "        query_words_to_labels,\n",
    "        query_shuffle,\n",
    "        url_shuffle):\n",
    "    def url_word_to_label(word):\n",
    "        return word_to_label(word, url_words_to_labels)\n",
    "\n",
    "    def query_word_to_label(word):\n",
    "        return word_to_label(word, query_words_to_labels)\n",
    "\n",
    "    with open(filename, \"w\") as handler:\n",
    "        for i in range(len(urls)):\n",
    "            if i % 500 == 0:\n",
    "                clear_output()\n",
    "                print(\"{} / {}\".format(i, len(urls)))\n",
    "            query = queries[query_shuffle[i]]\n",
    "            url = urls[url_shuffle[i]]\n",
    "            query_words = get_words_from_query(query)\n",
    "            url_words = get_words_from_url(url)\n",
    "            query_str = \" \".join(map(query_word_to_label, query_words)).strip()\n",
    "            url_str = \" \".join(map(url_word_to_label, url_words)).strip()\n",
    "            if (len(query_str) > 0) and (len(url_str) > 0):\n",
    "                print(\"{}\\t{}\".format(query_str, url_str), file=handler)\n",
    "\n",
    "def make_procesed_train_files(\n",
    "        queries,\n",
    "        urls,\n",
    "        positive_filename,\n",
    "        negative_filename,\n",
    "        url_words_to_labels,\n",
    "        query_words_to_labels,\n",
    "        positive_shuffle,\n",
    "        negative_shuffle):\n",
    "\n",
    "    def url_word_to_label(word):\n",
    "        return word_to_label(word, url_words_to_labels)\n",
    "\n",
    "    def query_word_to_label(word):\n",
    "        return word_to_label(word, query_words_to_labels)\n",
    "\n",
    "    with open(positive_filename, \"w\") as positive_handler, open(negative_filename, \"w\") as negative_handler:\n",
    "        for i in range(len(urls)):\n",
    "            if i % 500 == 0:\n",
    "                clear_output()\n",
    "                print(\"{} / {}\".format(i, len(urls)))\n",
    "            query = queries[positive_shuffle[i]]\n",
    "            positive_url = urls[positive_shuffle[i]]\n",
    "            negative_url = urls[negative_shuffle[i]]\n",
    "            query_words = get_words_from_query(query)\n",
    "            positive_url_words = get_words_from_url(positive_url)\n",
    "            negative_url_words = get_words_from_url(negative_url)\n",
    "            query_str = \" \".join(map(query_word_to_label, query_words))\n",
    "            positive_url_str = \" \".join(map(url_word_to_label, positive_url_words))\n",
    "            negative_url_str = \" \".join(map(url_word_to_label, negative_url_words))\n",
    "            print(\"{}\\t{}\".format(query_str, positive_url_str), file=positive_handler)\n",
    "            print(\"{}\\t{}\".format(query_str, negative_url_str), file=negative_handler)"
   ]
  },
  {
   "cell_type": "code",
   "execution_count": 4,
   "metadata": {},
   "outputs": [],
   "source": [
    "queries, urls = read_train(\"req_ans_learn.tsv\")"
   ]
  },
  {
   "cell_type": "raw",
   "metadata": {},
   "source": [
    "query_words_counter = get_words_counter_from_queries(queries)\n",
    "query_words_to_labels = make_words_to_labels_from_words_counter(query_words_counter, MIN_FREQ)\n",
    "\n",
    "url_words_counter = get_words_counter_from_urls(urls)\n",
    "url_words_to_labels = make_words_to_labels_from_words_counter(url_words_counter, MIN_FREQ)"
   ]
  },
  {
   "cell_type": "code",
   "execution_count": null,
   "metadata": {},
   "outputs": [],
   "source": [
    "url_words_to_labels = load_words_to_labels(\"url_freq_words_to_labels.tsv\")\n",
    "query_words_to_labels = load_words_to_labels(\"query_freq_words_to_labels.tsv\")"
   ]
  },
  {
   "cell_type": "code",
   "execution_count": null,
   "metadata": {},
   "outputs": [],
   "source": [
    "positive_shuffle = np.random.permutation(len(queries))\n",
    "negative_shuffle = np.random.permutation(len(queries))"
   ]
  },
  {
   "cell_type": "code",
   "execution_count": null,
   "metadata": {},
   "outputs": [],
   "source": [
    "save_words(url_words_to_labels, \"url_freq_words_to_labels.tsv\")\n",
    "save_words(query_words_to_labels, \"query_freq_words_to_labels.tsv\")\n",
    "np.save(\"positive_shuffle\", positive_shuffle)\n",
    "np.save(\"negative_shuffle\", negative_shuffle)"
   ]
  },
  {
   "cell_type": "code",
   "execution_count": null,
   "metadata": {},
   "outputs": [],
   "source": [
    "len(query_words_to_labels), len(url_words_to_labels), len(queries), len(urls)"
   ]
  },
  {
   "cell_type": "code",
   "execution_count": null,
   "metadata": {},
   "outputs": [],
   "source": [
    "make_procesed_train_files(\n",
    "    queries,\n",
    "    urls,\n",
    "    \"freq_positive_train_data.tsv\",\n",
    "    \"freq_negative_train_data.tsv\",\n",
    "    url_words_to_labels,\n",
    "    query_words_to_labels,\n",
    "    positive_shuffle,\n",
    "    negative_shuffle\n",
    ")"
   ]
  },
  {
   "cell_type": "code",
   "execution_count": 5,
   "metadata": {},
   "outputs": [],
   "source": [
    "import cityhash"
   ]
  },
  {
   "cell_type": "code",
   "execution_count": 16,
   "metadata": {},
   "outputs": [],
   "source": [
    "def hash_words(words, dict_size=100000):\n",
    "    return ({\n",
    "        str(cityhash.CityHash32(word) % dict_size)\n",
    "        for word in words\n",
    "    }, {\n",
    "        str(cityhash.CityHash32(word_1 + \"$\" + word_2) % dict_size)\n",
    "        for word_1, word_2 in zip(words[:-1], words[1:])\n",
    "    }, {\n",
    "        str(cityhash.CityHash32(word[i:(i + 3)]) % dict_size)\n",
    "        for word in words\n",
    "        for i in range(len(word) - 2)\n",
    "    })\n",
    "\n",
    "def make_string_from_words(words):\n",
    "    words, word_bigrams, symbol_trigrams = hash_words(words)\n",
    "    return \"\\t\".join([\" \".join(words), \" \".join(word_bigrams), \" \".join(symbol_trigrams)])"
   ]
  },
  {
   "cell_type": "code",
   "execution_count": 17,
   "metadata": {},
   "outputs": [],
   "source": [
    "positive_shuffle = np.load(\"positive_shuffle.npy\")\n",
    "negative_shuffle = np.load(\"negative_shuffle.npy\")"
   ]
  },
  {
   "cell_type": "code",
   "execution_count": 18,
   "metadata": {},
   "outputs": [
    {
     "data": {
      "text/plain": [
       "(500000, 500000)"
      ]
     },
     "execution_count": 18,
     "metadata": {},
     "output_type": "execute_result"
    }
   ],
   "source": [
    "len(positive_shuffle), len(negative_shuffle)"
   ]
  },
  {
   "cell_type": "code",
   "execution_count": 19,
   "metadata": {},
   "outputs": [
    {
     "name": "stdout",
     "output_type": "stream",
     "text": [
      "39500 / 500000\n"
     ]
    },
    {
     "ename": "KeyboardInterrupt",
     "evalue": "",
     "output_type": "error",
     "traceback": [
      "\u001b[0;31m---------------------------------------------------------------------------\u001b[0m",
      "\u001b[0;31mKeyboardInterrupt\u001b[0m                         Traceback (most recent call last)",
      "\u001b[0;32m<ipython-input-19-e469944480c7>\u001b[0m in \u001b[0;36m<module>\u001b[0;34m\u001b[0m\n\u001b[1;32m      9\u001b[0m         \u001b[0mnegative_url\u001b[0m \u001b[0;34m=\u001b[0m \u001b[0murls\u001b[0m\u001b[0;34m[\u001b[0m\u001b[0mnegative_shuffle\u001b[0m\u001b[0;34m[\u001b[0m\u001b[0mi\u001b[0m\u001b[0;34m]\u001b[0m\u001b[0;34m]\u001b[0m\u001b[0;34m\u001b[0m\u001b[0m\n\u001b[1;32m     10\u001b[0m         \u001b[0mquery_words\u001b[0m \u001b[0;34m=\u001b[0m \u001b[0mget_words_from_query\u001b[0m\u001b[0;34m(\u001b[0m\u001b[0mquery\u001b[0m\u001b[0;34m)\u001b[0m\u001b[0;34m\u001b[0m\u001b[0m\n\u001b[0;32m---> 11\u001b[0;31m         \u001b[0mpositive_url_words\u001b[0m \u001b[0;34m=\u001b[0m \u001b[0mget_words_from_url\u001b[0m\u001b[0;34m(\u001b[0m\u001b[0mpositive_url\u001b[0m\u001b[0;34m)\u001b[0m\u001b[0;34m\u001b[0m\u001b[0m\n\u001b[0m\u001b[1;32m     12\u001b[0m         \u001b[0mnegative_url_words\u001b[0m \u001b[0;34m=\u001b[0m \u001b[0mget_words_from_url\u001b[0m\u001b[0;34m(\u001b[0m\u001b[0mnegative_url\u001b[0m\u001b[0;34m)\u001b[0m\u001b[0;34m\u001b[0m\u001b[0m\n\u001b[1;32m     13\u001b[0m \u001b[0;34m\u001b[0m\u001b[0m\n",
      "\u001b[0;32m<ipython-input-3-4c0237aedd02>\u001b[0m in \u001b[0;36mget_words_from_url\u001b[0;34m(url)\u001b[0m\n\u001b[1;32m     11\u001b[0m     \u001b[0mkey\u001b[0m \u001b[0;34m=\u001b[0m \u001b[0mPREFIX\u001b[0m \u001b[0;34m+\u001b[0m \u001b[0murl\u001b[0m\u001b[0;34m\u001b[0m\u001b[0m\n\u001b[1;32m     12\u001b[0m     \u001b[0;32mif\u001b[0m \u001b[0mCLEAR_STORAGE\u001b[0m\u001b[0;34m.\u001b[0m\u001b[0mcontains\u001b[0m\u001b[0;34m(\u001b[0m\u001b[0mkey\u001b[0m\u001b[0;34m)\u001b[0m\u001b[0;34m:\u001b[0m\u001b[0;34m\u001b[0m\u001b[0m\n\u001b[0;32m---> 13\u001b[0;31m         \u001b[0;32mreturn\u001b[0m \u001b[0mre\u001b[0m\u001b[0;34m.\u001b[0m\u001b[0msub\u001b[0m\u001b[0;34m(\u001b[0m\u001b[0;34m\"[^\\w\\s]\"\u001b[0m\u001b[0;34m,\u001b[0m \u001b[0;34m\" \"\u001b[0m\u001b[0;34m,\u001b[0m \u001b[0mget_text\u001b[0m\u001b[0;34m(\u001b[0m\u001b[0mCLEAR_STORAGE\u001b[0m\u001b[0;34m.\u001b[0m\u001b[0mread\u001b[0m\u001b[0;34m(\u001b[0m\u001b[0mkey\u001b[0m\u001b[0;34m)\u001b[0m\u001b[0;34m)\u001b[0m\u001b[0;34m.\u001b[0m\u001b[0mlower\u001b[0m\u001b[0;34m(\u001b[0m\u001b[0;34m)\u001b[0m\u001b[0;34m)\u001b[0m\u001b[0;34m.\u001b[0m\u001b[0msplit\u001b[0m\u001b[0;34m(\u001b[0m\u001b[0;34m)\u001b[0m\u001b[0;34m\u001b[0m\u001b[0m\n\u001b[0m\u001b[1;32m     14\u001b[0m     \u001b[0;32melse\u001b[0m\u001b[0;34m:\u001b[0m\u001b[0;34m\u001b[0m\u001b[0m\n\u001b[1;32m     15\u001b[0m         \u001b[0;32mreturn\u001b[0m \u001b[0;34m[\u001b[0m\u001b[0;34m]\u001b[0m\u001b[0;34m\u001b[0m\u001b[0m\n",
      "\u001b[0;32m~/code/venv3/lib/python3.7/site-packages/inscriptis/__init__.py\u001b[0m in \u001b[0;36mget_text\u001b[0;34m(html_content, display_images, deduplicate_captions, display_links)\u001b[0m\n\u001b[1;32m     30\u001b[0m         \u001b[0mhtml_content\u001b[0m \u001b[0;34m=\u001b[0m \u001b[0mRE_STRIP_XML_DECLARATION\u001b[0m\u001b[0;34m.\u001b[0m\u001b[0msub\u001b[0m\u001b[0;34m(\u001b[0m\u001b[0;34m''\u001b[0m\u001b[0;34m,\u001b[0m \u001b[0mhtml_content\u001b[0m\u001b[0;34m,\u001b[0m \u001b[0mcount\u001b[0m\u001b[0;34m=\u001b[0m\u001b[0;36m1\u001b[0m\u001b[0;34m)\u001b[0m\u001b[0;34m\u001b[0m\u001b[0m\n\u001b[1;32m     31\u001b[0m \u001b[0;34m\u001b[0m\u001b[0m\n\u001b[0;32m---> 32\u001b[0;31m     \u001b[0mhtml_tree\u001b[0m \u001b[0;34m=\u001b[0m \u001b[0mfromstring\u001b[0m\u001b[0;34m(\u001b[0m\u001b[0mhtml_content\u001b[0m\u001b[0;34m)\u001b[0m\u001b[0;34m\u001b[0m\u001b[0m\n\u001b[0m\u001b[1;32m     33\u001b[0m     \u001b[0mparser\u001b[0m \u001b[0;34m=\u001b[0m \u001b[0mInscriptis\u001b[0m\u001b[0;34m(\u001b[0m\u001b[0mhtml_tree\u001b[0m\u001b[0;34m,\u001b[0m \u001b[0mdisplay_images\u001b[0m\u001b[0;34m=\u001b[0m\u001b[0mdisplay_images\u001b[0m\u001b[0;34m,\u001b[0m \u001b[0mdeduplicate_captions\u001b[0m\u001b[0;34m=\u001b[0m\u001b[0mdeduplicate_captions\u001b[0m\u001b[0;34m,\u001b[0m \u001b[0mdisplay_links\u001b[0m\u001b[0;34m=\u001b[0m\u001b[0mdisplay_links\u001b[0m\u001b[0;34m)\u001b[0m\u001b[0;34m\u001b[0m\u001b[0m\n\u001b[1;32m     34\u001b[0m     \u001b[0;32mreturn\u001b[0m \u001b[0mparser\u001b[0m\u001b[0;34m.\u001b[0m\u001b[0mget_text\u001b[0m\u001b[0;34m(\u001b[0m\u001b[0;34m)\u001b[0m\u001b[0;34m\u001b[0m\u001b[0m\n",
      "\u001b[0;32m~/code/venv3/lib/python3.7/site-packages/lxml/html/__init__.py\u001b[0m in \u001b[0;36mfromstring\u001b[0;34m(html, base_url, parser, **kw)\u001b[0m\n\u001b[1;32m    873\u001b[0m     \u001b[0;32melse\u001b[0m\u001b[0;34m:\u001b[0m\u001b[0;34m\u001b[0m\u001b[0m\n\u001b[1;32m    874\u001b[0m         \u001b[0mis_full_html\u001b[0m \u001b[0;34m=\u001b[0m \u001b[0m_looks_like_full_html_unicode\u001b[0m\u001b[0;34m(\u001b[0m\u001b[0mhtml\u001b[0m\u001b[0;34m)\u001b[0m\u001b[0;34m\u001b[0m\u001b[0m\n\u001b[0;32m--> 875\u001b[0;31m     \u001b[0mdoc\u001b[0m \u001b[0;34m=\u001b[0m \u001b[0mdocument_fromstring\u001b[0m\u001b[0;34m(\u001b[0m\u001b[0mhtml\u001b[0m\u001b[0;34m,\u001b[0m \u001b[0mparser\u001b[0m\u001b[0;34m=\u001b[0m\u001b[0mparser\u001b[0m\u001b[0;34m,\u001b[0m \u001b[0mbase_url\u001b[0m\u001b[0;34m=\u001b[0m\u001b[0mbase_url\u001b[0m\u001b[0;34m,\u001b[0m \u001b[0;34m**\u001b[0m\u001b[0mkw\u001b[0m\u001b[0;34m)\u001b[0m\u001b[0;34m\u001b[0m\u001b[0m\n\u001b[0m\u001b[1;32m    876\u001b[0m     \u001b[0;32mif\u001b[0m \u001b[0mis_full_html\u001b[0m\u001b[0;34m:\u001b[0m\u001b[0;34m\u001b[0m\u001b[0m\n\u001b[1;32m    877\u001b[0m         \u001b[0;32mreturn\u001b[0m \u001b[0mdoc\u001b[0m\u001b[0;34m\u001b[0m\u001b[0m\n",
      "\u001b[0;32m~/code/venv3/lib/python3.7/site-packages/lxml/html/__init__.py\u001b[0m in \u001b[0;36mdocument_fromstring\u001b[0;34m(html, parser, ensure_head_body, **kw)\u001b[0m\n\u001b[1;32m    759\u001b[0m     \u001b[0;32mif\u001b[0m \u001b[0mparser\u001b[0m \u001b[0;32mis\u001b[0m \u001b[0;32mNone\u001b[0m\u001b[0;34m:\u001b[0m\u001b[0;34m\u001b[0m\u001b[0m\n\u001b[1;32m    760\u001b[0m         \u001b[0mparser\u001b[0m \u001b[0;34m=\u001b[0m \u001b[0mhtml_parser\u001b[0m\u001b[0;34m\u001b[0m\u001b[0m\n\u001b[0;32m--> 761\u001b[0;31m     \u001b[0mvalue\u001b[0m \u001b[0;34m=\u001b[0m \u001b[0metree\u001b[0m\u001b[0;34m.\u001b[0m\u001b[0mfromstring\u001b[0m\u001b[0;34m(\u001b[0m\u001b[0mhtml\u001b[0m\u001b[0;34m,\u001b[0m \u001b[0mparser\u001b[0m\u001b[0;34m,\u001b[0m \u001b[0;34m**\u001b[0m\u001b[0mkw\u001b[0m\u001b[0;34m)\u001b[0m\u001b[0;34m\u001b[0m\u001b[0m\n\u001b[0m\u001b[1;32m    762\u001b[0m     \u001b[0;32mif\u001b[0m \u001b[0mvalue\u001b[0m \u001b[0;32mis\u001b[0m \u001b[0;32mNone\u001b[0m\u001b[0;34m:\u001b[0m\u001b[0;34m\u001b[0m\u001b[0m\n\u001b[1;32m    763\u001b[0m         raise etree.ParserError(\n",
      "\u001b[0;32msrc/lxml/etree.pyx\u001b[0m in \u001b[0;36mlxml.etree.fromstring\u001b[0;34m()\u001b[0m\n",
      "\u001b[0;32msrc/lxml/etree.pyx\u001b[0m in \u001b[0;36mlxml.etree._Document.getroot\u001b[0;34m()\u001b[0m\n",
      "\u001b[0;32msrc/lxml/etree.pyx\u001b[0m in \u001b[0;36mlxml.etree._elementFactory\u001b[0;34m()\u001b[0m\n",
      "\u001b[0;32msrc/lxml/classlookup.pxi\u001b[0m in \u001b[0;36mlxml.etree._parser_class_lookup\u001b[0;34m()\u001b[0m\n",
      "\u001b[0;32msrc/lxml/classlookup.pxi\u001b[0m in \u001b[0;36mlxml.etree._custom_class_lookup\u001b[0;34m()\u001b[0m\n",
      "\u001b[0;32m~/code/venv3/lib/python3.7/site-packages/lxml/html/__init__.py\u001b[0m in \u001b[0;36mlookup\u001b[0;34m(self, node_type, document, namespace, name)\u001b[0m\n\u001b[1;32m    733\u001b[0m         \u001b[0mself\u001b[0m\u001b[0;34m.\u001b[0m\u001b[0m_element_classes\u001b[0m \u001b[0;34m=\u001b[0m \u001b[0mclasses\u001b[0m\u001b[0;34m\u001b[0m\u001b[0m\n\u001b[1;32m    734\u001b[0m \u001b[0;34m\u001b[0m\u001b[0m\n\u001b[0;32m--> 735\u001b[0;31m     \u001b[0;32mdef\u001b[0m \u001b[0mlookup\u001b[0m\u001b[0;34m(\u001b[0m\u001b[0mself\u001b[0m\u001b[0;34m,\u001b[0m \u001b[0mnode_type\u001b[0m\u001b[0;34m,\u001b[0m \u001b[0mdocument\u001b[0m\u001b[0;34m,\u001b[0m \u001b[0mnamespace\u001b[0m\u001b[0;34m,\u001b[0m \u001b[0mname\u001b[0m\u001b[0;34m)\u001b[0m\u001b[0;34m:\u001b[0m\u001b[0;34m\u001b[0m\u001b[0m\n\u001b[0m\u001b[1;32m    736\u001b[0m         \u001b[0;32mif\u001b[0m \u001b[0mnode_type\u001b[0m \u001b[0;34m==\u001b[0m \u001b[0;34m'element'\u001b[0m\u001b[0;34m:\u001b[0m\u001b[0;34m\u001b[0m\u001b[0m\n\u001b[1;32m    737\u001b[0m             \u001b[0;32mreturn\u001b[0m \u001b[0mself\u001b[0m\u001b[0;34m.\u001b[0m\u001b[0m_element_classes\u001b[0m\u001b[0;34m.\u001b[0m\u001b[0mget\u001b[0m\u001b[0;34m(\u001b[0m\u001b[0mname\u001b[0m\u001b[0;34m.\u001b[0m\u001b[0mlower\u001b[0m\u001b[0;34m(\u001b[0m\u001b[0;34m)\u001b[0m\u001b[0;34m,\u001b[0m \u001b[0mHtmlElement\u001b[0m\u001b[0;34m)\u001b[0m\u001b[0;34m\u001b[0m\u001b[0m\n",
      "\u001b[0;31mKeyboardInterrupt\u001b[0m: "
     ]
    }
   ],
   "source": [
    "with open(\"positive_hash_data_dict_100K.tsv\", \"w\") as positive_handler, open(\"negative_hash_data_dict_100K.tsv\", \"w\") as negative_handler:\n",
    "    for i in range(len(urls)):\n",
    "        if i % 500 == 0:\n",
    "            clear_output()\n",
    "            print(\"{} / {}\".format(i, len(urls)))\n",
    "        \n",
    "        query = queries[positive_shuffle[i]]\n",
    "        positive_url = urls[positive_shuffle[i]]\n",
    "        negative_url = urls[negative_shuffle[i]]\n",
    "        query_words = get_words_from_query(query)\n",
    "        positive_url_words = get_words_from_url(positive_url)\n",
    "        negative_url_words = get_words_from_url(negative_url)\n",
    "        \n",
    "        query_line = make_string_from_words(query_words)\n",
    "        positive_url_line = make_string_from_words(positive_url_words)\n",
    "        negative_url_line = make_string_from_words(negative_url_words)\n",
    "        \n",
    "        print(query_line + \"\\t\" + positive_url_line, file=positive_handler)\n",
    "        print(query_line + \"\\t\" + negative_url_line, file=negative_handler)"
   ]
  },
  {
   "cell_type": "code",
   "execution_count": null,
   "metadata": {},
   "outputs": [],
   "source": []
  }
 ],
 "metadata": {
  "kernelspec": {
   "display_name": "Python 3",
   "language": "python",
   "name": "python3"
  },
  "language_info": {
   "codemirror_mode": {
    "name": "ipython",
    "version": 3
   },
   "file_extension": ".py",
   "mimetype": "text/x-python",
   "name": "python",
   "nbconvert_exporter": "python",
   "pygments_lexer": "ipython3",
   "version": "3.7.0"
  }
 },
 "nbformat": 4,
 "nbformat_minor": 2
}
