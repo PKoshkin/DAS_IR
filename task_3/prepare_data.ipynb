{
 "cells": [
  {
   "cell_type": "code",
   "execution_count": 1,
   "metadata": {},
   "outputs": [
    {
     "name": "stderr",
     "output_type": "stream",
     "text": [
      "Using TensorFlow backend.\n"
     ]
    }
   ],
   "source": [
    "from collections import Counter\n",
    "from sklearn.model_selection import KFold\n",
    "import numpy as np\n",
    "import re\n",
    "import os\n",
    "import shutil\n",
    "\n",
    "from urllib.parse import urlparse\n",
    "from urllib.parse import urldefrag\n",
    "from urllib.request import urlopen\n",
    "from file_storage import FileStorage\n",
    "from urllib.parse import urljoin\n",
    "from IPython.display import clear_output\n",
    "from collections import defaultdict\n",
    "\n",
    "from inscriptis import get_text\n",
    "\n",
    "os.environ[\"CUDA_DEVICE_ORDER\"] = \"PCI_BUS_ID\"\n",
    "os.environ[\"CUDA_VISIBLE_DEVICES\"] = \"3\"\n",
    "\n",
    "from keras.models import Sequential, Model\n",
    "from keras.layers import Embedding, LSTM, Bidirectional, Dense, Input, Masking, Lambda\n",
    "import keras.backend as K\n",
    "from keras.optimizers import Adam\n",
    "from keras.callbacks import LambdaCallback, LearningRateScheduler, Callback"
   ]
  },
  {
   "cell_type": "code",
   "execution_count": 2,
   "metadata": {},
   "outputs": [],
   "source": [
    "CLEAR_STORAGE = FileStorage(\"clear_storage\")\n",
    "PREFIX = \"https://simple.wikipedia.org\""
   ]
  },
  {
   "cell_type": "code",
   "execution_count": 3,
   "metadata": {},
   "outputs": [],
   "source": [
    "def read_train(tarin_filename):\n",
    "    queries, urls = [], []\n",
    "    with open(tarin_filename) as handler:\n",
    "        for line in handler:\n",
    "            query, url = line.strip().split(\"\\t\", 2)\n",
    "            queries.append(query)\n",
    "            urls.append(url)\n",
    "    return queries, urls\n",
    "\n",
    "def get_words_from_url(url):\n",
    "    key = PREFIX + url\n",
    "    if CLEAR_STORAGE.contains(key):\n",
    "        return re.sub(\"[^\\w\\s]\", \" \", get_text(CLEAR_STORAGE.read(key)).lower()).split()\n",
    "    else:\n",
    "        return []\n",
    "\n",
    "def get_words_set_from_urls(urls):\n",
    "    words = set()\n",
    "    for i, url in enumerate(urls):\n",
    "        if i % 500 == 0:\n",
    "            clear_output()\n",
    "            print(\"{} / {}\".format(i, len(urls)))\n",
    "        words.update(get_words_from_url(url))\n",
    "    return words\n",
    "\n",
    "def get_words_from_query(query):\n",
    "    return re.sub(\"[^\\w\\s]\", \" \", query.lower()).split()\n",
    "    \n",
    "def get_words_set_from_queries(queries):\n",
    "    words = set()\n",
    "    for i, query in enumerate(queries):\n",
    "        if i % 500 == 0:\n",
    "            clear_output()\n",
    "            print(\"{} / {}\".format(i, len(urls)))\n",
    "        words.update(get_words_from_query(query))\n",
    "    return words\n",
    "\n",
    "def make_words_to_labels_from_words_set(words_set):\n",
    "    return {\n",
    "        word: label\n",
    "        for label, word in enumerate(words_set)\n",
    "    }\n",
    "\n",
    "def load_words_to_labels(filename):\n",
    "    with open(filename) as handler:\n",
    "        words_to_labels = {}\n",
    "        for line in handler:\n",
    "            word, label = line.strip().split()\n",
    "            words_to_labels[word] = int(label)\n",
    "        return words_to_labels\n",
    "\n",
    "def save_words(words_to_labels, filename):\n",
    "    with open(filename, \"w\") as handler:\n",
    "        for word in words_to_labels:\n",
    "            print(\"{}\\t{}\".format(word, words_to_labels[word]), file=handler)\n",
    "            \n",
    "def make_procesed_train_file(\n",
    "        queries,\n",
    "        urls,\n",
    "        filename,\n",
    "        url_words_to_labels,\n",
    "        query_words_to_labels,\n",
    "        query_shuffle,\n",
    "        url_shuffle):\n",
    "    def url_word_to_label(word):\n",
    "        return str(url_words_to_labels[word])\n",
    "\n",
    "    def query_word_to_label(word):\n",
    "        return str(query_words_to_labels[word])\n",
    "\n",
    "    with open(filename, \"w\") as handler:\n",
    "        for i in range(len(urls)):\n",
    "            if i % 500 == 0:\n",
    "                clear_output()\n",
    "                print(\"{} / {}\".format(i, len(urls)))\n",
    "            query = queries[query_shuffle[i]]\n",
    "            url = urls[url_shuffle[i]]\n",
    "            query_words = get_words_from_query(query)\n",
    "            url_words = get_words_from_url(url)\n",
    "            query_str = \" \".join(map(query_word_to_label, query_words))\n",
    "            url_str = \" \".join(map(url_word_to_label, url_words))\n",
    "            print(\"{}\\t{}\".format(query_str, url_str), file=handler)\n",
    "\n",
    "def make_procesed_train_files(\n",
    "        queries,\n",
    "        urls,\n",
    "        positive_filename,\n",
    "        negative_filename,\n",
    "        url_words_to_labels,\n",
    "        query_words_to_labels,\n",
    "        positive_shuffle,\n",
    "        negative_shuffle):\n",
    "\n",
    "    def url_word_to_label(word):\n",
    "        return str(url_words_to_labels[word])\n",
    "\n",
    "    def query_word_to_label(word):\n",
    "        return str(query_words_to_labels[word])\n",
    "\n",
    "    with open(positive_filename, \"w\") as positive_handler, open(negative_filename, \"w\") as negative_handler:\n",
    "        for i in range(len(urls)):\n",
    "            if i % 500 == 0:\n",
    "                clear_output()\n",
    "                print(\"{} / {}\".format(i, len(urls)))\n",
    "            query = queries[positive_shuffle[i]]\n",
    "            positive_url = urls[positive_shuffle[i]]\n",
    "            negative_url = urls[negative_shuffle[i]]\n",
    "            query_words = get_words_from_query(query)\n",
    "            positive_url_words = get_words_from_url(positive_url)\n",
    "            negative_url_words = get_words_from_url(negative_url)\n",
    "            query_str = \" \".join(map(query_word_to_label, query_words))\n",
    "            positive_url_str = \" \".join(map(url_word_to_label, positive_url_words))\n",
    "            negative_url_str = \" \".join(map(url_word_to_label, negative_url_words))\n",
    "            print(\"{}\\t{}\".format(query_str, positive_url_str), file=positive_handler)\n",
    "            print(\"{}\\t{}\".format(query_str, negative_url_str), file=negative_handler)"
   ]
  },
  {
   "cell_type": "code",
   "execution_count": 4,
   "metadata": {},
   "outputs": [],
   "source": [
    "queries, urls = read_train(\"req_ans_learn.tsv\")"
   ]
  },
  {
   "cell_type": "code",
   "execution_count": 5,
   "metadata": {},
   "outputs": [],
   "source": [
    "#url_words = get_words_set_from_urls(urls)\n",
    "url_words = load_words_to_labels(\"url_words_to_labels.tsv\")"
   ]
  },
  {
   "cell_type": "code",
   "execution_count": 6,
   "metadata": {},
   "outputs": [
    {
     "name": "stdout",
     "output_type": "stream",
     "text": [
      "499500 / 500000\n"
     ]
    }
   ],
   "source": [
    "query_words = get_words_set_from_queries(queries)"
   ]
  },
  {
   "cell_type": "code",
   "execution_count": 10,
   "metadata": {},
   "outputs": [],
   "source": [
    "url_words_to_labels = make_words_to_labels_from_words_set(url_words)\n",
    "query_words_to_labels = make_words_to_labels_from_words_set(query_words)"
   ]
  },
  {
   "cell_type": "code",
   "execution_count": 8,
   "metadata": {},
   "outputs": [],
   "source": [
    "#save_words(url_words_to_labels, \"url_words_to_labels.tsv\")\n",
    "save_words(query_words_to_labels, \"query_words_to_labels.tsv\")"
   ]
  },
  {
   "cell_type": "code",
   "execution_count": 9,
   "metadata": {},
   "outputs": [],
   "source": [
    "positive_shuffle = np.random.permutation(len(queries))\n",
    "negative_shuffle = np.random.permutation(len(queries))"
   ]
  },
  {
   "cell_type": "code",
   "execution_count": 11,
   "metadata": {},
   "outputs": [
    {
     "data": {
      "text/plain": [
       "(247074, 583954, 500000, 500000)"
      ]
     },
     "execution_count": 11,
     "metadata": {},
     "output_type": "execute_result"
    }
   ],
   "source": [
    "len(query_words_to_labels), len(url_words_to_labels), len(queries), len(urls)"
   ]
  },
  {
   "cell_type": "code",
   "execution_count": null,
   "metadata": {},
   "outputs": [
    {
     "name": "stdout",
     "output_type": "stream",
     "text": [
      "206000 / 500000\n"
     ]
    }
   ],
   "source": [
    "make_procesed_train_files(\n",
    "    queries,\n",
    "    urls,\n",
    "    \"positive_train_data.tsv\",\n",
    "    \"negative_train_data.tsv\",\n",
    "    url_words_to_labels,\n",
    "    query_words_to_labels,\n",
    "    positive_shuffle,\n",
    "    negative_shuffle\n",
    ")"
   ]
  },
  {
   "cell_type": "code",
   "execution_count": null,
   "metadata": {},
   "outputs": [],
   "source": []
  }
 ],
 "metadata": {
  "kernelspec": {
   "display_name": "Python 3",
   "language": "python",
   "name": "python3"
  },
  "language_info": {
   "codemirror_mode": {
    "name": "ipython",
    "version": 3
   },
   "file_extension": ".py",
   "mimetype": "text/x-python",
   "name": "python",
   "nbconvert_exporter": "python",
   "pygments_lexer": "ipython3",
   "version": "3.7.0"
  }
 },
 "nbformat": 4,
 "nbformat_minor": 2
}
