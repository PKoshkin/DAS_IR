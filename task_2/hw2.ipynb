{
 "cells": [
  {
   "cell_type": "code",
   "execution_count": 1,
   "metadata": {},
   "outputs": [],
   "source": [
    "from collections import Counter\n",
    "from sklearn.model_selection import KFold\n",
    "import numpy as np"
   ]
  },
  {
   "cell_type": "code",
   "execution_count": 2,
   "metadata": {},
   "outputs": [],
   "source": [
    "def read_train(filename):\n",
    "    with open(filename) as handler:\n",
    "        X, Y = [], []\n",
    "        for line in handler:\n",
    "            x, y = line.strip().split(\"\\t\")\n",
    "            X.append(x)\n",
    "            Y.append(y)\n",
    "        return np.array(X), np.array(Y)\n",
    "\n",
    "def read_test(filename):\n",
    "    with open(filename) as handler:\n",
    "        X = []\n",
    "        for line in handler:\n",
    "            x = line.strip()\n",
    "            X.append(x)\n",
    "        return np.array(X)\n",
    "\n",
    "def acc_metric(labels, predictions):\n",
    "    assert isinstance(labels, np.ndarray)\n",
    "    assert isinstance(predictions, np.ndarray)\n",
    "    return len(labels[labels == predictions]) / len(labels)\n",
    "\n",
    "def meashure_model(model, X, Y):\n",
    "    kf = KFold(n_splits=2)\n",
    "    metrics = []\n",
    "    for train_index, test_index in kf.split(X):\n",
    "        train_X, test_X = X[train_index], X[test_index]\n",
    "        train_Y, test_Y = Y[train_index], Y[test_index]\n",
    "        model.fit(train_X, train_Y)\n",
    "        predictions = model.predict(test_X)\n",
    "        metrics.append(acc_metric(predictions, test_Y))\n",
    "    return np.mean(metrics), np.var(metrics)\n",
    "\n",
    "class MostPopularModel:\n",
    "    def fit(self, X, Y):\n",
    "        self._answer = Counter(Y).most_common()[0][0]\n",
    "\n",
    "    def predict(self, X):\n",
    "        return np.array([self._answer] * len(X))"
   ]
  },
  {
   "cell_type": "code",
   "execution_count": 3,
   "metadata": {},
   "outputs": [],
   "source": [
    "TRAIN_FILENAME = \"names_and_rubrics_learn.tsv\"\n",
    "TEST_FILENAME = \"names_and_rubrics_test_no_rubric.tsv\""
   ]
  },
  {
   "cell_type": "code",
   "execution_count": 4,
   "metadata": {},
   "outputs": [],
   "source": [
    "train_X, train_Y = read_train(TRAIN_FILENAME)\n",
    "test_X = read_test(TEST_FILENAME)"
   ]
  },
  {
   "cell_type": "code",
   "execution_count": 5,
   "metadata": {},
   "outputs": [
    {
     "data": {
      "text/plain": [
       "(8917102, 8917102, 1000000)"
      ]
     },
     "execution_count": 5,
     "metadata": {},
     "output_type": "execute_result"
    }
   ],
   "source": [
    "len(train_X), len(train_Y), len(test_X)"
   ]
  },
  {
   "cell_type": "code",
   "execution_count": null,
   "metadata": {},
   "outputs": [],
   "source": [
    "most_popular_model = MostPopularModel()\n",
    "mean, var = meashure_model(most_popular_model, train_X, train_Y)"
   ]
  },
  {
   "cell_type": "code",
   "execution_count": null,
   "metadata": {},
   "outputs": [],
   "source": [
    "mean, var"
   ]
  },
  {
   "cell_type": "code",
   "execution_count": null,
   "metadata": {},
   "outputs": [],
   "source": []
  }
 ],
 "metadata": {
  "kernelspec": {
   "display_name": "Python 3",
   "language": "python",
   "name": "python3"
  },
  "language_info": {
   "codemirror_mode": {
    "name": "ipython",
    "version": 3
   },
   "file_extension": ".py",
   "mimetype": "text/x-python",
   "name": "python",
   "nbconvert_exporter": "python",
   "pygments_lexer": "ipython3",
   "version": "3.7.0"
  }
 },
 "nbformat": 4,
 "nbformat_minor": 2
}
